{
 "cells": [
  {
   "cell_type": "code",
   "execution_count": 1,
   "id": "590b6ea4-a2f1-473f-b7ee-82b6cedb35b5",
   "metadata": {},
   "outputs": [],
   "source": [
    "import nltk\n",
    "from nltk import sent_tokenize\n",
    "from nltk.tokenize import word_tokenize\n",
    "import pymorphy3\n",
    "import pandas as pd\n",
    "import string"
   ]
  },
  {
   "cell_type": "code",
   "execution_count": 2,
   "id": "403c8a76-3ca5-43cc-8b42-8b9141aa3c10",
   "metadata": {},
   "outputs": [
    {
     "name": "stderr",
     "output_type": "stream",
     "text": [
      "[nltk_data] Downloading package punkt to\n",
      "[nltk_data]     C:\\Users\\user\\AppData\\Roaming\\nltk_data...\n",
      "[nltk_data]   Package punkt is already up-to-date!\n"
     ]
    },
    {
     "data": {
      "text/plain": [
       "True"
      ]
     },
     "execution_count": 2,
     "metadata": {},
     "output_type": "execute_result"
    }
   ],
   "source": [
    "nltk.download('punkt')"
   ]
  },
  {
   "cell_type": "code",
   "execution_count": 8,
   "id": "6c2f1ccd-aaeb-4636-b1fd-64f6e4263ddf",
   "metadata": {},
   "outputs": [],
   "source": [
    "morph = pymorphy3.MorphAnalyzer()\n",
    "pairs = []"
   ]
  },
  {
   "cell_type": "code",
   "execution_count": 9,
   "id": "8378d4d6-da6e-4634-9a5b-60918cad9d54",
   "metadata": {},
   "outputs": [],
   "source": [
    "with open(\"text.txt\", \"r\", encoding=\"utf-8\") as file:\n",
    "    text = file.read()\n",
    "\n",
    "sentences = sent_tokenize(text)"
   ]
  },
  {
   "cell_type": "code",
   "execution_count": 10,
   "id": "a6ddce7b-5b33-4c06-9fc4-c82c1c4552df",
   "metadata": {},
   "outputs": [],
   "source": [
    "for sentence in sentences:\n",
    "    words = word_tokenize(sentence, language='russian')\n",
    "    for i in range(len(words) - 1):\n",
    "        word1, word2 = words[i], words[i + 1]\n",
    "        \n",
    "        if word1 in string.punctuation or word2 in string.punctuation:\n",
    "            continue\n",
    "            \n",
    "        parsed1 = morph.parse(word1)[0] if morph.parse(word1) else None\n",
    "        parsed2 = morph.parse(word2)[0] if morph.parse(word2) else None\n",
    "        \n",
    "        if not parsed1 or not parsed2:\n",
    "            continue\n",
    "        \n",
    "        pos1, pos2 = parsed1.tag.POS, parsed2.tag.POS\n",
    "        adj_pos, noun_pos = {'ADJF', 'ADJS'}, {'NOUN'}\n",
    "        \n",
    "        if (parsed1.tag.number == parsed2.tag.number and \n",
    "            parsed1.tag.case == parsed2.tag.case):\n",
    "            \n",
    "            # Прил + сущ или сущ + прил\n",
    "            if (pos1 in adj_pos and pos2 in noun_pos) or (pos1 in noun_pos and pos2 in adj_pos):\n",
    "                adj = parsed1 if pos1 in adj_pos else parsed2\n",
    "                noun = parsed2 if pos1 in adj_pos else parsed1\n",
    "                \n",
    "                noun_lemma_parse = morph.parse(noun.normal_form)[0]\n",
    "                if noun_lemma_parse.tag.gender:\n",
    "                    inflected_adj = adj.inflect({\n",
    "                        noun_lemma_parse.tag.gender, \n",
    "                        noun_lemma_parse.tag.number, \n",
    "                        noun_lemma_parse.tag.case\n",
    "                    })\n",
    "                    if inflected_adj:\n",
    "                        adj_normalized = inflected_adj.word\n",
    "                        noun_normalized = noun.normal_form\n",
    "                        if pos1 in adj_pos:\n",
    "                            pairs.append((adj_normalized, noun_normalized))\n",
    "                        else:\n",
    "                            pairs.append((noun_normalized, adj_normalized))\n",
    "            \n",
    "            # Сущ + сущ\n",
    "            elif pos1 in noun_pos and pos2 in noun_pos:\n",
    "                pairs.append((parsed1.normal_form, parsed2.normal_form))\n",
    "            \n",
    "            # Прил + прил\n",
    "            elif pos1 in adj_pos and pos2 in adj_pos:\n",
    "                if parsed1.tag.gender and parsed2.tag.gender:\n",
    "                    inflected_adj1 = parsed1.inflect({parsed2.tag.gender, parsed1.tag.number, parsed1.tag.case})\n",
    "                    if inflected_adj1:\n",
    "                        pairs.append((parsed1.normal_form, parsed2.normal_form))"
   ]
  },
  {
   "cell_type": "code",
   "execution_count": 11,
   "id": "93b38f81-e557-4d34-9e84-e76fb3c573ed",
   "metadata": {},
   "outputs": [
    {
     "name": "stdout",
     "output_type": "stream",
     "text": [
      "Пары слов (леммы):\n",
      "чёрный - воланд\n",
      "никакая - дорога\n",
      "лунная - дорога\n",
      "чёрный - конь\n",
      "полуночная - луна\n",
      "своя - подруга\n",
      "утренний - луч\n",
      "каменистый - мшистый\n",
      "мшистый - мостик\n"
     ]
    }
   ],
   "source": [
    "print(\"Пары слов (леммы):\")\n",
    "for word1, word2 in pairs:\n",
    "    print(f\"{word1} - {word2}\")"
   ]
  },
  {
   "cell_type": "code",
   "execution_count": null,
   "id": "4dd1575c-cd1c-46d2-aa18-76af83f693d1",
   "metadata": {},
   "outputs": [],
   "source": []
  },
  {
   "cell_type": "code",
   "execution_count": null,
   "id": "f98298ea-8e73-4b1e-a8b5-f3cd7282b97c",
   "metadata": {},
   "outputs": [],
   "source": []
  }
 ],
 "metadata": {
  "kernelspec": {
   "display_name": "Python [conda env:base] *",
   "language": "python",
   "name": "conda-base-py"
  },
  "language_info": {
   "codemirror_mode": {
    "name": "ipython",
    "version": 3
   },
   "file_extension": ".py",
   "mimetype": "text/x-python",
   "name": "python",
   "nbconvert_exporter": "python",
   "pygments_lexer": "ipython3",
   "version": "3.13.5"
  }
 },
 "nbformat": 4,
 "nbformat_minor": 5
}
